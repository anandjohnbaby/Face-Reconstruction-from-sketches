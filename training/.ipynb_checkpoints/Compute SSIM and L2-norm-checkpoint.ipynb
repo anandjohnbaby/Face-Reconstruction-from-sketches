{
 "cells": [
  {
   "cell_type": "markdown",
   "metadata": {},
   "source": [
    "# **Import Libraries**"
   ]
  },
  {
   "cell_type": "code",
   "execution_count": 15,
   "metadata": {},
   "outputs": [],
   "source": [
    "import os\n",
    "import numpy as np\n",
    "import cv2\n",
    "import pandas as pd\n",
    "from skimage.metrics import structural_similarity as ssim\n",
    "from tensorflow.keras.preprocessing.image import load_img, img_to_array\n",
    "from scipy.linalg import norm\n",
    "import matplotlib.pyplot as plt"
   ]
  },
  {
   "cell_type": "markdown",
   "metadata": {},
   "source": [
    "# **Specify data path**"
   ]
  },
  {
   "cell_type": "code",
   "execution_count": 20,
   "metadata": {},
   "outputs": [],
   "source": [
    "generated_folder = \"Generated_Images\"\n",
    "target_folder = \"CUHK/Testing photo\"\n",
    "input_sketches_folder = \"CUHK/Testing sketch\""
   ]
  },
  {
   "cell_type": "markdown",
   "metadata": {},
   "source": [
    "# **Compute Scores**"
   ]
  },
  {
   "cell_type": "code",
   "execution_count": 21,
   "metadata": {},
   "outputs": [],
   "source": [
    "# Function to compute PSNR\n",
    "def compute_psnr(img1, img2):\n",
    "    mse = np.mean((img1 - img2) ** 2)\n",
    "    if mse == 0:\n",
    "        return float('inf')\n",
    "    return 20 * np.log10(255.0 / np.sqrt(mse))\n",
    "\n",
    "# Function to compute Mean Squared Error (MSE)\n",
    "def compute_mse(img1, img2):\n",
    "    return np.mean((img1 - img2) ** 2)\n",
    "\n",
    "# Function to compute L2 Norm (Euclidean Distance)\n",
    "def compute_l2_norm(img1, img2):\n",
    "    return norm(img1.flatten() - img2.flatten())\n",
    "\n",
    "# Function to compute SSIM (with smaller win_size)\n",
    "def compute_ssim(img1, img2):\n",
    "    return ssim(img1, img2, multichannel=True, win_size=3)  # Set smaller window size"
   ]
  },
  {
   "cell_type": "code",
   "execution_count": 22,
   "metadata": {},
   "outputs": [],
   "source": [
    "# Get list of files in the generated and target image folders and sort them\n",
    "generated_files = sorted([f for f in os.listdir(generated_folder) if f.endswith(\".jpg\") or f.endswith(\".png\")])\n",
    "target_files = sorted([f for f in os.listdir(target_folder) if f.endswith(\".jpg\") or f.endswith(\".png\")])\n",
    "input_sketch_files = sorted([f for f in os.listdir(input_sketches_folder) if f.endswith(\".jpg\") or f.endswith(\".png\")])"
   ]
  },
  {
   "cell_type": "code",
   "execution_count": 23,
   "metadata": {},
   "outputs": [],
   "source": [
    "# Ensure both folders have the same number of images\n",
    "if len(generated_files) != len(target_files):\n",
    "    print(f\"Warning: The number of images in the generated folder ({len(generated_files)}) does not match the target folder ({len(target_files)}).\")\n",
    "else:\n",
    "    # Initialize variables to accumulate total scores\n",
    "    total_ssim = 0\n",
    "    total_psnr = 0\n",
    "    total_mse = 0\n",
    "    total_l2_norm = 0\n",
    "    num_images = 0\n",
    "    # Iterate over generated images and their corresponding target images\n",
    "    for gen_filename, target_filename, sketch_filename in zip(generated_files, target_files, input_sketch_files):\n",
    "        gen_path = os.path.join(generated_folder, gen_filename)\n",
    "        target_path = os.path.join(target_folder, target_filename)\n",
    "        sketch_path = os.path.join(input_sketches_folder, sketch_filename)\n",
    "\n",
    "        # Load and preprocess images\n",
    "        gen_img = img_to_array(load_img(gen_path, target_size=(256, 256)))\n",
    "        target_img = img_to_array(load_img(target_path, target_size=(256, 256)))\n",
    "        sketch_img = img_to_array(load_img(sketch_path, target_size=(256, 256)))\n",
    "\n",
    "        # Convert images to uint8 format for SSIM\n",
    "        gen_img_uint8 = gen_img.astype(np.uint8)\n",
    "        target_img_uint8 = target_img.astype(np.uint8)\n",
    "        sketch_img_uint8 = sketch_img.astype(np.uint8)\n",
    "\n",
    "        # Compute SSIM (Structural Similarity Index)\n",
    "        ssim_value = compute_ssim(gen_img_uint8, target_img_uint8)\n",
    "\n",
    "        # Compute PSNR\n",
    "        psnr_value = compute_psnr(gen_img_uint8, target_img_uint8)\n",
    "\n",
    "        # Compute MSE\n",
    "        mse_value = compute_mse(gen_img_uint8, target_img_uint8)\n",
    "\n",
    "        # Compute L2 Norm\n",
    "        l2_norm_value = compute_l2_norm(gen_img_uint8, target_img_uint8)\n",
    "\n",
    "        # Print the results for each pair\n",
    "        #print(f\"Image Pair: {gen_filename} (Generated) vs {target_filename} (Target) vs {sketch_filename} (Input Sketch)\")\n",
    "        \n",
    "        '''\n",
    "        # Plot the images side by side\n",
    "        plt.figure(figsize=(18, 6))\n",
    "        \n",
    "        plt.subplot(1, 3, 1)\n",
    "        plt.imshow(sketch_img_uint8)\n",
    "        plt.title(f\"Input Sketch\")\n",
    "        plt.axis('off')\n",
    "\n",
    "        plt.subplot(1, 3, 2)\n",
    "        plt.imshow(gen_img_uint8)\n",
    "        plt.title(f\"Generated Image\\nSSIM: {ssim_value:.4f}\")\n",
    "        plt.axis('off')\n",
    "\n",
    "        plt.subplot(1, 3, 3)\n",
    "        plt.imshow(target_img_uint8)\n",
    "        plt.title(f\"Target Image\")\n",
    "        plt.axis('off')\n",
    "        \n",
    "        plt.show()\n",
    "        \n",
    "        print(f\"SSIM: {ssim_value:.4f}, PSNR: {psnr_value:.2f}, MSE: {mse_value:.2f}, L2 Norm: {l2_norm_value:.2f}\")\n",
    "        print(\"-\" * 150)\n",
    "        \n",
    "        '''\n",
    "\n",
    "        # Accumulate scores\n",
    "        total_ssim += ssim_value\n",
    "        total_psnr += psnr_value\n",
    "        total_mse += mse_value\n",
    "        total_l2_norm += l2_norm_value\n",
    "        num_images += 1\n",
    "    # Compute averages\n",
    "average_ssim = total_ssim / num_images if num_images > 0 else 0\n",
    "average_psnr = total_psnr / num_images if num_images > 0 else 0\n",
    "average_mse = total_mse / num_images if num_images > 0 else 0\n",
    "average_l2_norm = total_l2_norm / num_images if num_images > 0 else 0"
   ]
  },
  {
   "cell_type": "markdown",
   "metadata": {},
   "source": [
    "# **Result**"
   ]
  },
  {
   "cell_type": "code",
   "execution_count": 24,
   "metadata": {},
   "outputs": [
    {
     "name": "stdout",
     "output_type": "stream",
     "text": [
      "SSIM : 0.7584196018969425\n",
      "PSNR : 28.373899324815348\n",
      "MSE : 94.89643488566082\n",
      "L2 Norm : 76184.88759803987\n"
     ]
    }
   ],
   "source": [
    "print(f\"SSIM : {average_ssim}\")\n",
    "print(f\"PSNR : {average_psnr}\")\n",
    "print(f\"MSE : {average_mse}\")\n",
    "print(f\"L2 Norm : {average_l2_norm}\")"
   ]
  },
  {
   "cell_type": "code",
   "execution_count": null,
   "metadata": {},
   "outputs": [],
   "source": []
  }
 ],
 "metadata": {
  "kernelspec": {
   "display_name": "Python 3 (ipykernel)",
   "language": "python",
   "name": "python3"
  },
  "language_info": {
   "codemirror_mode": {
    "name": "ipython",
    "version": 3
   },
   "file_extension": ".py",
   "mimetype": "text/x-python",
   "name": "python",
   "nbconvert_exporter": "python",
   "pygments_lexer": "ipython3",
   "version": "3.9.19"
  }
 },
 "nbformat": 4,
 "nbformat_minor": 4
}
